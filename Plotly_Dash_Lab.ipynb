{
 "cells": [
  {
   "cell_type": "markdown",
   "metadata": {},
   "source": [
    "# Q0: import dash standard libraries"
   ]
  },
  {
   "cell_type": "code",
   "execution_count": null,
   "metadata": {},
   "outputs": [],
   "source": [
    "from dash import Dash, dcc, html, Input, Output, callback\n",
    "import dash_bootstrap_components as dbc\n",
    "from jupyter_dash import JupyterDash"
   ]
  },
  {
   "cell_type": "markdown",
   "metadata": {},
   "source": [
    "# Q1: Make dash that prints \"Data Science\""
   ]
  },
  {
   "cell_type": "code",
   "execution_count": null,
   "metadata": {},
   "outputs": [],
   "source": [
    "app = JupyterDash('Test')\n",
    "\n",
    "app.layout = html.Div([\n",
    "    html.H1('Data Science')\n",
    "])\n",
    "\n",
    "if __name__ == '__main__':\n",
    "    app.run_server()"
   ]
  },
  {
   "cell_type": "markdown",
   "metadata": {},
   "source": [
    "# Q2: Make dash that takes name input and outpt \"Welcome to Data Science dashboard {name}\""
   ]
  },
  {
   "cell_type": "code",
   "execution_count": null,
   "metadata": {},
   "outputs": [],
   "source": [
    "app = JupyterDash()\n",
    "\n",
    "app.layout = html.Div([\n",
    "    dcc.Input(id=\"name-input\", type=\"text\", placeholder=\"Enter your name\"),\n",
    "    html.Div(id=\"output-message\")\n",
    "])\n",
    "\n",
    "@app.callback(\n",
    "    Output(\"output-message\", \"children\"),\n",
    "    Input(\"name-input\", \"value\")\n",
    ")\n",
    "def update_output(name):\n",
    "    if name:\n",
    "        return f\"Welcome to Data Science dashboard, {name}!\"\n",
    "    else:\n",
    "        return \"please enter your name above\"\n",
    "    \n",
    "app.run_server()"
   ]
  },
  {
   "cell_type": "markdown",
   "metadata": {},
   "source": [
    "# Q3: Make Plotly-Dash that takes two inputs (numbers) and output 3 numbers x, y , z= x+y\n",
    "- hint: use html.Div, dcc.Input(type='number')"
   ]
  },
  {
   "cell_type": "code",
   "execution_count": null,
   "metadata": {},
   "outputs": [],
   "source": [
    "app = JupyterDash()\n",
    "app.layout = html.Div([\n",
    "    html.Div([\n",
    "        html.Label(\"please enter the first number: \"),\n",
    "        dcc.Input(id=\"input1\", type=\"number\",value=0, placeholder=\"Enter number x: \"),\n",
    "        html.Label(\"please enter the second number: \"),\n",
    "        dcc.Input(id=\"input2\", type=\"number\",value=0, placeholder=\"Enter number y: \"),\n",
    "       \n",
    "    ]),\n",
    "    html.Div(id=\"output\")\n",
    "])\n",
    "@app.callback(\n",
    "    Output(\"output\", \"children\"),\n",
    "    Input(\"input1\", \"value\"),\n",
    "    Input(\"input2\", \"value\")\n",
    ")\n",
    "def calculate_sum(input1, input2):\n",
    "    x = input1\n",
    "    y = input2\n",
    "    z = x + y\n",
    "    return f\"sum the number of {x} and {y} is {z}\"\n",
    "\n",
    "app.run_server()"
   ]
  },
  {
   "cell_type": "markdown",
   "metadata": {},
   "source": [
    "# Q4.1: Make JubyterDash with Rangeslider from 1-15 with 6 option"
   ]
  },
  {
   "cell_type": "code",
   "execution_count": null,
   "metadata": {},
   "outputs": [],
   "source": [
    "app = JupyterDash() \n",
    "\n",
    "app.layout = html.Div([\n",
    "     html.H1('Rangeslider'),\n",
    "    dcc.RangeSlider( 1, 15, 1, value=[1, 6] , id='my-range-slider' ),\n",
    "    html.Div(id='output-container-range-slider')\n",
    "])\n",
    "\n",
    "@app.callback(\n",
    "    Output('output-container-range-slider', 'children'),\n",
    "    Input('my-range-slider', 'value'))\n",
    "\n",
    "def output(value):\n",
    "    return 'You have selected \"{}\"'.format(value)\n",
    "\n",
    "app.run_server()"
   ]
  },
  {
   "cell_type": "markdown",
   "metadata": {},
   "source": [
    "# Q4.2: add to the previous dash: Label, set default value on rangeslider as 7-10"
   ]
  },
  {
   "cell_type": "code",
   "execution_count": null,
   "metadata": {},
   "outputs": [],
   "source": [
    "app = JupyterDash() \n",
    "\n",
    "app.layout = html.Div([\n",
    "    html.Label('Rangeslider'), \n",
    "    dcc.RangeSlider(1, 15, 1, value=[7, 10], id='my-range-slider'),\n",
    "    html.Div(id='output-container-range-slider')\n",
    "])\n",
    "\n",
    "@app.callback(\n",
    "    Output('output-container-range-slider', 'children'),\n",
    "    Input('my-range-slider', 'value'))\n",
    "\n",
    "def output(value):\n",
    "    return 'You have selected \"{}\"'.format(value)\n",
    "\n",
    "app.run_server()"
   ]
  },
  {
   "cell_type": "markdown",
   "metadata": {},
   "source": [
    "# Q5: Make 3 different Dcc types (Dropdown - Checkbox...) in one dash"
   ]
  },
  {
   "cell_type": "code",
   "execution_count": null,
   "metadata": {},
   "outputs": [],
   "source": [
    "app = JupyterDash()\n",
    "\n",
    "\n",
    "app.layout = html.Div(children=[\n",
    "    html.H1('3 different Dcc types'),\n",
    "    dcc.Dropdown(\n",
    "        options=[\n",
    "            {'label': 'Abdullah', 'value': 'op1'},\n",
    "            {'label': 'Ali', 'value': 'op2'},\n",
    "            {'label': 'Faisal', 'value': 'op3'}\n",
    "        ],\n",
    "        value='op1'\n",
    "    ),\n",
    "\n",
    "    dcc.Slider(\n",
    "        min=1,\n",
    "        max=15,\n",
    "        step=1,\n",
    "        value=6,\n",
    "        marks={i: str(i) for i in range(1, 11)}\n",
    "    ),\n",
    "\n",
    "    dcc.RadioItems(\n",
    "        options=[\n",
    "            {'label': 'Abdullah', 'value': 'a'},\n",
    "            {'label': 'Ali', 'value': 'b'},\n",
    "            {'label': 'Faisal', 'value': 'c'}\n",
    "        ],\n",
    "        value='b'\n",
    "    )\n",
    "])\n",
    "\n",
    "app.run_server()"
   ]
  },
  {
   "cell_type": "markdown",
   "metadata": {},
   "source": [
    "# Q6: Make Plotly chart, then add it to a plotly_dash"
   ]
  },
  {
   "cell_type": "code",
   "execution_count": null,
   "metadata": {},
   "outputs": [],
   "source": [
    "import plotly.express as px"
   ]
  },
  {
   "cell_type": "code",
   "execution_count": null,
   "metadata": {},
   "outputs": [],
   "source": [
    "app = JupyterDash()\n",
    "plotChart = px.line( x=[1,2,3,4,5],y=[5,4,3,2,1])\n",
    "\n",
    "app.layout = html.Div([\n",
    "    dcc.Graph(figure = plotChart, id='figureIs')\n",
    "])\n",
    "\n",
    "app.run_server()"
   ]
  },
  {
   "cell_type": "markdown",
   "metadata": {},
   "source": [
    "# Q7: From our data make plotly-dash with suitble chart, and Dropdown.\n",
    "\n",
    "- Dropdown should contain at least 3 options, each one represents different column.\n",
    "- Add label to dropdown.\n",
    "- The chart data should change depending on the selected dropdown option."
   ]
  },
  {
   "cell_type": "code",
   "execution_count": null,
   "metadata": {},
   "outputs": [],
   "source": [
    "import pandas as pd\n",
    "import plotly.express as px\n",
    "df = pd.read_csv(\"titanic passenger list.csv\")"
   ]
  },
  {
   "cell_type": "code",
   "execution_count": null,
   "metadata": {},
   "outputs": [],
   "source": [
    "app = Dash(__name__)\n",
    "\n",
    "app.layout = html.Div([\n",
    "   \n",
    "    dcc.Dropdown(id='names',\n",
    "        options=['age','sex','survived'],\n",
    "        value='age'\n",
    "    ),\n",
    "    dcc.Graph(id=\"pie\"),\n",
    "])\n",
    "\n",
    "@app.callback(\n",
    "    Output(\"pie\", \"figure\"), \n",
    "    Input(\"names\", \"value\"))\n",
    "\n",
    "def pii(names):\n",
    "    fig = px.pie(df, names=names )\n",
    "    return fig\n",
    "\n",
    "if __name__ == '__main__':\n",
    "    app.run_server(debug=True)"
   ]
  },
  {
   "cell_type": "markdown",
   "metadata": {},
   "source": [
    "# Q8: add 2 more charts to the prevoius Ploty-Dash"
   ]
  },
  {
   "cell_type": "code",
   "execution_count": null,
   "metadata": {},
   "outputs": [],
   "source": [
    "import warnings\n",
    "warnings.filterwarnings('ignore')\n",
    "\n",
    "app = JupyterDash()\n",
    "\n",
    "app.layout = html.Div([\n",
    "       html.Label('Choose:'),\n",
    "       dcc.Dropdown(\n",
    "           id='DropdownList',\n",
    "           options=[\n",
    "               {'label': 'Sex', 'value': 'sex'},\n",
    "               {'label': 'Age', 'value': 'age'},\n",
    "               {'label': 'Fare', 'value': 'fare'}\n",
    "               \n",
    "\n",
    "           ],\n",
    "       ),\n",
    "html.Div([\n",
    "     dcc.Graph(id='scatter') ,\n",
    "        dcc.Graph(id='histogram'),\n",
    "        dcc.Graph(id='line')\n",
    "    ], style={'display': 'flex', 'flex-wrap': 'wrap'})\n",
    "   ])\n",
    "\n",
    "@app.callback(\n",
    "    Output('scatter', 'figure'),\n",
    "       Output('histogram', 'figure'),\n",
    "       Output('line', 'figure'),\n",
    "       Input('DropdownList', 'value')\n",
    "   )\n",
    "\n",
    "def chartCol(column):\n",
    "    fig = px.scatter(df, x=column)\n",
    "    fig2 = px.histogram(df, x=column)\n",
    "    fig3 = px.line(df, x=column)\n",
    "    return fig , fig2 , fig3\n",
    "app.run_server() "
   ]
  },
  {
   "cell_type": "markdown",
   "metadata": {},
   "source": [
    "# Q9: Search for \"Plotly Gallery\" and fetch for a graph and use it with our data.\n",
    "\n",
    "- Note: You need to put the resourse addres of fetched your grapth."
   ]
  },
  {
   "cell_type": "code",
   "execution_count": null,
   "metadata": {},
   "outputs": [],
   "source": [
    "fig = px.histogram(df, x=\"survived\", color=\"sex\")\n",
    "\n",
    "app = JupyterDash()\n",
    "\n",
    "app.layout = html.Div([\n",
    "    dcc.Graph(figure=fig)\n",
    "])\n",
    "\n",
    "app.run_server()"
   ]
  },
  {
   "cell_type": "markdown",
   "metadata": {},
   "source": [
    "# Challenge 1.1: Create Plotly dash with two charts depends on different columns of the data\n",
    "- First Chart : Pie\n",
    "- Secound Chart: is by your Choice ( Not Pie )"
   ]
  },
  {
   "cell_type": "code",
   "execution_count": null,
   "metadata": {},
   "outputs": [],
   "source": []
  },
  {
   "cell_type": "markdown",
   "metadata": {},
   "source": [
    "# Challenge 1.2: Make Hovering over a slice of the pie changes the data for the second chart depending on what the slice is."
   ]
  },
  {
   "cell_type": "code",
   "execution_count": null,
   "metadata": {},
   "outputs": [],
   "source": []
  }
 ],
 "metadata": {
  "kernelspec": {
   "display_name": "Python 3 (ipykernel)",
   "language": "python",
   "name": "python3"
  },
  "language_info": {
   "codemirror_mode": {
    "name": "ipython",
    "version": 3
   },
   "file_extension": ".py",
   "mimetype": "text/x-python",
   "name": "python",
   "nbconvert_exporter": "python",
   "pygments_lexer": "ipython3",
   "version": "3.11.5"
  }
 },
 "nbformat": 4,
 "nbformat_minor": 2
}
